{
 "cells": [
  {
   "cell_type": "code",
   "execution_count": 8,
   "metadata": {},
   "outputs": [],
   "source": [
    "import pandas as pd\n",
    "df = pd.read_csv(\"bq_query.csv\")"
   ]
  },
  {
   "cell_type": "code",
   "execution_count": 74,
   "metadata": {},
   "outputs": [],
   "source": [
    "import pandas as pd\n",
    "from sklearn.model_selection import train_test_split\n",
    "from sklearn.ensemble import RandomForestRegressor\n",
    "from sklearn.metrics import mean_squared_error\n",
    "\n",
    "def train_regression_model_with_feature(feature, label, test_size=0.2, random_state=42):\n",
    "    \"\"\"\n",
    "    Entrena un modelo de regresión utilizando una única característica del DataFrame.\n",
    "\n",
    "    Parámetros:\n",
    "    - df: DataFrame que contiene los datos.\n",
    "    - feature: Nombre de la característica.\n",
    "    - label: Nombre de la etiqueta.\n",
    "    - test_size: Proporción del conjunto de prueba (por defecto 0.2).\n",
    "    - random_state: Semilla para reproducibilidad (por defecto 42).\n",
    "\n",
    "    Retorna:\n",
    "    - El modelo entrenado y el error cuadrático medio en el conjunto de prueba.\n",
    "    \"\"\"\n",
    "\n",
    "    # Selección de características (X) y etiquetas (y)\n",
    "    X = df[[feature]]\n",
    "    y = df[label]\n",
    "\n",
    "    # División del conjunto de datos en entrenamiento y prueba\n",
    "    X_train, X_test, y_train, y_test = train_test_split(X, y, test_size=test_size, random_state=random_state)\n",
    "\n",
    "    # Crear y entrenar el modelo de regresión\n",
    "    regression_model = RandomForestRegressor(random_state=random_state)\n",
    "    regression_model.fit(X_train, y_train)\n",
    "\n",
    "    # Hacer predicciones en el conjunto de prueba\n",
    "    predictions = regression_model.predict(X_test)\n",
    "\n",
    "    # Evaluar el rendimiento del modelo (usando el error cuadrático medio)\n",
    "    mse = mean_squared_error(y_test, predictions)\n",
    "\n",
    "    return regression_model, mse\n",
    "\n"
   ]
  },
  {
   "cell_type": "code",
   "execution_count": 75,
   "metadata": {},
   "outputs": [],
   "source": [
    "modelo, mse = train_regression_model_with_feature(feature='takeout', label='rating')"
   ]
  },
  {
   "cell_type": "code",
   "execution_count": 77,
   "metadata": {},
   "outputs": [
    {
     "data": {
      "text/plain": [
       "0.7120539175808255"
      ]
     },
     "execution_count": 77,
     "metadata": {},
     "output_type": "execute_result"
    }
   ],
   "source": [
    "mse"
   ]
  },
  {
   "cell_type": "code",
   "execution_count": 71,
   "metadata": {},
   "outputs": [],
   "source": [
    "modelo, mse = train_regression_model_with_feature(df, feature='catering', label='rating')"
   ]
  },
  {
   "cell_type": "code",
   "execution_count": 72,
   "metadata": {},
   "outputs": [
    {
     "data": {
      "text/plain": [
       "0.7085910112835623"
      ]
     },
     "execution_count": 72,
     "metadata": {},
     "output_type": "execute_result"
    }
   ],
   "source": [
    "mse"
   ]
  }
 ],
 "metadata": {
  "kernelspec": {
   "display_name": "Python 3",
   "language": "python",
   "name": "python3"
  },
  "language_info": {
   "codemirror_mode": {
    "name": "ipython",
    "version": 3
   },
   "file_extension": ".py",
   "mimetype": "text/x-python",
   "name": "python",
   "nbconvert_exporter": "python",
   "pygments_lexer": "ipython3",
   "version": "3.9.13"
  }
 },
 "nbformat": 4,
 "nbformat_minor": 2
}
